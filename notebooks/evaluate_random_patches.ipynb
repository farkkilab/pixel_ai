{
 "cells": [
  {
   "cell_type": "code",
   "execution_count": 1,
   "metadata": {},
   "source": [
    "from PIL import Image\n",
    "import PIL\n",
    "import os\n",
    "import tifffile\n",
    "import glob\n",
    "import torch; torch.manual_seed(0)\n",
    "import numpy as np\n",
    "import seaborn as sns\n",
    "import pandas as pd\n",
    "import pathlib\n",
    "import matplotlib.pyplot as plt\n",
    "import multiprocessing\n",
    "import os, sys\n",
    "import torchvision.transforms as T\n",
    "dir2 = os.path.abspath('')\n",
    "dir1 = os.path.dirname(dir2)\n",
    "if not dir1 in sys.path: sys.path.append(dir1)\n",
    "%load_ext autoreload\n",
    "%autoreload 2\n",
    "from utils import create_random_patches, ProgressMeter, AverageMeter, save_checkpoint, TiffDataset\n",
    "from os.path import dirname, join, abspath\n",
    "sys.path.insert(0, abspath(join(dirname(\"__file__\"), '..')))\n",
    "\n",
    "PIL.Image.MAX_IMAGE_PIXELS = 933120000"
   ],
   "outputs": []
  },
  {
   "cell_type": "markdown",
   "metadata": {},
   "source": [
    "# Compare non-empty and empty patches"
   ]
  },
  {
   "cell_type": "code",
   "execution_count": 44,
   "metadata": {},
   "source": [
    "im_core_1_patch_0 = tifffile.imread('/data/projects/pixel_project/datasets/NKI_project_TMAs/patches/randomly_generated/TMA_18_810/core44/patch_1408_1760.tiff')\n",
    "im_core_1_patch_0[0,:,:]\n",
    "\n",
    "plt.hist(im_core_1_patch_0[0,:,:].flatten())\n",
    "plt.show()\n",
    "print(\"Channel DAPI(0) median = {}, mean = {}, std = {}\".format(np.median(im_core_1_patch_0[0,:,:].flatten()), \n",
    "                                                      np.mean(im_core_1_patch_0[0,:,:].flatten()), \n",
    "                                                      np.std(im_core_1_patch_0[0,:,:].flatten())))\n",
    "\n",
    "plt.imshow(im_core_1_patch_0[0,:,:], cmap='gray')\n",
    "plt.show()"
   ],
   "outputs": []
  },
  {
   "cell_type": "code",
   "execution_count": 126,
   "metadata": {},
   "source": [
    "im_core_1_patch_1 = tifffile.imread('/data/projects/pixel_project/datasets/NKI_project_TMAs/patches/randomly_generated/TMA_18_810/core44/patch_1376_2656.tiff')\n",
    "im_core_1_patch_1[0,:,:]\n",
    "\n",
    "plt.hist(im_core_1_patch_1[0,:,:].flatten())\n",
    "plt.show()\n",
    "print(\"Channel DAPI(0) median = {}, mean = {}, std = {}, max = {}\".format(np.median(im_core_1_patch_1[0,:,:].flatten()), \n",
    "                                                      np.mean(im_core_1_patch_1[0,:,:].flatten()), \n",
    "                                                      np.std(im_core_1_patch_1[0,:,:].flatten()), \n",
    "                                                      np.max(im_core_1_patch_1[0,:,:].flatten())))\n",
    "\n",
    "plt.imshow(im_core_1_patch_1[0,:,:], cmap='gray', vmin=0, vmax=65000)\n",
    "plt.show()"
   ],
   "outputs": []
  },
  {
   "cell_type": "markdown",
   "metadata": {},
   "source": [
    "# Calculate DAPI density (channel 0) distribution"
   ]
  },
  {
   "cell_type": "code",
   "execution_count": 3,
   "metadata": {},
   "source": [
    "cores_folder = 'TMA_18_810/'\n",
    "files_path='/data/projects/pixel_project/datasets/NKI_project_TMAs/patches/randomly_generated/{0}'.format(cores_folder)\n",
    "input_dimensions = (128, 128)\n",
    "batch_size = 4096\n",
    "\n",
    "patches_files = [os.path.join(r, fn)\n",
    "        for r, ds, fs in os.walk(files_path)\n",
    "        for fn in fs if fn.endswith('.tiff')]\n",
    "tiff_dataset = TiffDataset(files=patches_files, files_names=patches_files, transform=T.Resize(input_dimensions))\n",
    "\n",
    "data_loader = torch.utils.data.DataLoader(\n",
    "    tiff_dataset, batch_size=batch_size, \n",
    "    shuffle=None, pin_memory=True, \n",
    "    sampler=None\n",
    "    )"
   ],
   "outputs": []
  },
  {
   "cell_type": "code",
   "execution_count": 4,
   "metadata": {},
   "source": [
    "dapi_stat = []\n",
    "\n",
    "for i, (image, filenames) in enumerate(data_loader): \n",
    "    for name in filenames: \n",
    "        im_core_patch = tifffile.imread(name)\n",
    "        dapi_stat.append((np.median(im_core_patch[0,:,:].flatten()), \n",
    "                        np.mean(im_core_patch[0,:,:].flatten()), \n",
    "                        np.std(im_core_patch[0,:,:].flatten()), \n",
    "                        name.split('/')[-1].lower(), \n",
    "                        name.split('/')[-2].lower()))\n",
    "\n",
    "d = pd.DataFrame(dapi_stat, columns=(\"Median\", \"Mean\", \"Std\", \"Patch\", \"Core\"))\n",
    "\n",
    "# save the file\n",
    "d.to_csv(\"../data/patch_size{}_stat_channel0.csv\".format(input_dimensions))"
   ],
   "outputs": []
  },
  {
   "cell_type": "code",
   "execution_count": 5,
   "metadata": {},
   "source": [
    "np.shape(d)"
   ],
   "outputs": []
  },
  {
   "cell_type": "markdown",
   "metadata": {},
   "source": [
    "# Plot channel density distribution per core"
   ]
  },
  {
   "cell_type": "code",
   "execution_count": 17,
   "metadata": {},
   "source": [
    "def plot_patch_density_percore(data, core, kde=True, element='step', log_scale=True): \n",
    "    plot_df = data.loc[data['Core'] == core]\n",
    "    # sns.histplot(plot_df[\"Median\"], kde=kde, element=element, log_scale=log_scale)\n",
    "    # sns.histplot(plot_df[\"Mean\"], kde=kde, element=element, log_scale=log_scale)\n",
    "    # sns.histplot(plot_df[\"Std\"], kde=kde, element=element, log_scale=log_scale)\n",
    "    sns.histplot(plot_df, kde=kde, element=element, log_scale=log_scale)\n",
    "    plt.title(\"{}\".format(core))\n",
    "    plt.show()"
   ],
   "outputs": []
  },
  {
   "cell_type": "code",
   "execution_count": null,
   "metadata": {},
   "source": [
    "# Read in d"
   ],
   "outputs": []
  },
  {
   "cell_type": "code",
   "execution_count": 18,
   "metadata": {},
   "source": [
    "import random\n",
    "for core in random.choices(np.unique(d[\"Core\"]), k=10): \n",
    "    plot_patch_density_percore(d, core, kde=True, element='step', log_scale=False)\n",
    "    plot_patch_density_percore(d, core, kde=True, element='step', log_scale=True)\n"
   ],
   "outputs": []
  }
 ],
 "metadata": {
  "kernelspec": {
   "display_name": "pixel-ai",
   "language": "python",
   "name": "python3"
  },
  "language_info": {
   "codemirror_mode": {
    "name": "ipython",
    "version": 3
   },
   "file_extension": ".py",
   "mimetype": "text/x-python",
   "name": "python",
   "nbconvert_exporter": "python",
   "pygments_lexer": "ipython3",
   "version": "3.8.0"
  }
 },
 "nbformat": 4,
 "nbformat_minor": 2
}
