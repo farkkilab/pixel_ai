{
 "cells": [
  {
   "cell_type": "code",
   "execution_count": 3,
   "id": "ba0b8215",
   "metadata": {},
   "outputs": [
    {
     "name": "stdout",
     "output_type": "stream",
     "text": [
      "torch.Size([4, 4, 768])\n"
     ]
    }
   ],
   "source": [
    "import torch\n",
    "from torch import nn\n",
    "import numpy as np\n",
    "\n",
    "def divide_image_into_patches(image, patch_size):\n",
    "    # Assuming image is a 2D array and patch_size is a tuple (patch_height, patch_width)\n",
    "    patches = []\n",
    "    img_height, img_width = image.shape\n",
    "    patch_height, patch_width = patch_size\n",
    "    \n",
    "    for i in range(0, img_height, patch_height):\n",
    "        row_patches = []\n",
    "        for j in range(0, img_width, patch_width):\n",
    "            patch = image[i:i + patch_height, j:j + patch_width]\n",
    "            row_patches.append(patch)\n",
    "        patches.append(row_patches)\n",
    "    \n",
    "    return patches\n",
    "\n",
    "def get_patch_embedding(patch):\n",
    "    # Placeholder function for computing embedding for a patch\n",
    "    # In practice, this should return a 1x768 tensor\n",
    "    return torch.randn(1, 768)\n",
    "\n",
    "def create_embedding_structure(image, patch_size):\n",
    "    patches = divide_image_into_patches(image, patch_size)\n",
    "    M = len(patches)  # Number of rows of patches\n",
    "    N = len(patches[0])  # Number of columns of patches\n",
    "    embedding_dim = 768\n",
    "    \n",
    "    # Create an empty tensor to store the embeddings\n",
    "    embeddings = torch.zeros((M, N, embedding_dim))\n",
    "    \n",
    "    for i in range(M):\n",
    "        for j in range(N):\n",
    "            patch = patches[i][j]\n",
    "            embedding = get_patch_embedding(patch)\n",
    "            embeddings[i, j] = embedding\n",
    "    \n",
    "    return embeddings\n",
    "\n",
    "# Example usage\n",
    "image = np.random.rand(1024, 1024)  # Example image\n",
    "patch_size = (256, 256)  # Example patch size\n",
    "\n",
    "embedding_structure = create_embedding_structure(image, patch_size)\n",
    "print(embedding_structure.shape)  # Should be (number of patches vertically, number of patches horizontally, 768)\n"
   ]
  },
  {
   "cell_type": "code",
   "execution_count": 4,
   "id": "e016b565",
   "metadata": {},
   "outputs": [
    {
     "name": "stdout",
     "output_type": "stream",
     "text": [
      "torch.Size([32, 1])\n"
     ]
    }
   ],
   "source": [
    "class EmbedSubtypeClassifier(nn.Module):\n",
    "    def __init__(self, input_dim, output_dim):\n",
    "        super(EmbedSubtypeClassifier, self).__init__()\n",
    "        self.conv_layers = nn.Sequential(\n",
    "            nn.Conv2d(in_channels=768, out_channels=32, kernel_size=3, padding=1),\n",
    "            nn.ReLU(),\n",
    "            nn.Conv2d(in_channels=32, out_channels=64, kernel_size=3, padding=1),\n",
    "            nn.ReLU(),\n",
    "            nn.MaxPool2d(kernel_size=2)\n",
    "        )\n",
    "        self.fc_layers = nn.Sequential(\n",
    "            nn.Linear(64 * (input_dim[0] // 2) * (input_dim[1] // 2), 256),  # Adjust based on pooling\n",
    "            nn.ReLU(),\n",
    "            nn.Linear(256, 128),\n",
    "            nn.ReLU(),\n",
    "            nn.Linear(128, output_dim),\n",
    "            nn.Sigmoid()  # For binary classification\n",
    "        )\n",
    "\n",
    "    def forward(self, x):\n",
    "        # x should have shape (batch_size, 768, H, W)\n",
    "        x = self.conv_layers(x)\n",
    "        x = x.view(x.size(0), -1)\n",
    "        return self.fc_layers(x)\n",
    "\n",
    "# Example usage\n",
    "model = EmbedSubtypeClassifier(input_dim=(4, 4), output_dim=1)  # Adjust input_dim based on number of patches\n",
    "input_tensor = torch.randn(32, 768, 4, 4)  # Batch size of 32, 768 channels, 4x4 patches\n",
    "output = model(input_tensor)\n",
    "print(output.shape)  # Should be (32, 1)\n"
   ]
  },
  {
   "cell_type": "code",
   "execution_count": null,
   "id": "dea5924f",
   "metadata": {},
   "outputs": [],
   "source": []
  }
 ],
 "metadata": {
  "kernelspec": {
   "display_name": "Python 3 (ipykernel)",
   "language": "python",
   "name": "python3"
  },
  "language_info": {
   "codemirror_mode": {
    "name": "ipython",
    "version": 3
   },
   "file_extension": ".py",
   "mimetype": "text/x-python",
   "name": "python",
   "nbconvert_exporter": "python",
   "pygments_lexer": "ipython3",
   "version": "3.10.12"
  }
 },
 "nbformat": 4,
 "nbformat_minor": 5
}
