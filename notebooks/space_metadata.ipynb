{
 "cells": [
  {
   "cell_type": "code",
   "execution_count": 3,
   "id": "66dc79bd-ff90-41c7-a3be-df0a22d4b9d2",
   "metadata": {},
   "outputs": [
    {
     "name": "stdout",
     "output_type": "stream",
     "text": [
      "Data matched and saved to 'matched_data.csv'\n"
     ]
    }
   ],
   "source": [
    "import pandas as pd\n",
    "import re\n",
    "import os\n",
    "\n",
    "# Load the CSV file\n",
    "csv_path = \"../data/SPACE_OncosysOva_ClinicalData_Batch_all_PFS_label.csv\" \n",
    "data = pd.read_csv(csv_path)\n",
    "data['study_id'] = data['study_id'].astype(str)\n",
    "directory_path = \"/scratch/project_2003009/space_he/adjacent_slide\"  \n",
    "\n",
    "results = []\n",
    "\n",
    "for filename in os.listdir(directory_path):\n",
    "    if filename.endswith(\".mrxs\"):\n",
    "        match = re.search(r'S\\d+', filename)\n",
    "        if match:\n",
    "            study_id = match.group()  # Extracts 'S289'\n",
    "            matched_row = data[data['study_id'] == study_id]\n",
    "            \n",
    "            if not matched_row.empty:\n",
    "                matched_row = matched_row.assign(filename=filename.replace(\".mrxs\",\"\"))\n",
    "                results.append(matched_row)\n",
    "\n",
    "if results:\n",
    "    final_result = pd.concat(results, ignore_index=True)\n",
    "    final_result = final_result[['filename', 'study_id','running_nr','progression','PFS_label']]  # Adjust columns as needed\n",
    "    final_result = final_result.rename(columns={\"filename\": \"slide\", \"PFS_label\": \"er_status_by_ihc\", \"running_nr\":\"patient\"})\n",
    "    final_result = final_result[final_result['er_status_by_ihc']!='remove']\n",
    "    # Exclude slides that case file reading errors\n",
    "    slides_to_avoid = ['12_S061_pOme_4_HE', '12_S027_pOme_4_HE', '12_S021_pOme_5_HE', '12_S047_pOme_4_HE']\n",
    "    final_result = final_result[~final_result['slide'].isin(slides_to_avoid)]\n",
    "    final_result = final_result[final_result['er_status_by_ihc']!='remove']\n",
    "    # Save the result to a new CSV\n",
    "    final_result.to_csv(\"../data/matched_data_space.csv\", index=False)\n",
    "    print(\"Data matched and saved to 'matched_data.csv'\")\n",
    "else:\n",
    "    print(\"No matching files found.\")\n"
   ]
  },
  {
   "cell_type": "code",
   "execution_count": 4,
   "id": "9cac9333-e1db-4e14-a24d-3e6c4f07f0b8",
   "metadata": {},
   "outputs": [
    {
     "name": "stdout",
     "output_type": "stream",
     "text": [
      "/projappl/project_2003009/matias/pixel_ai/notebooks\n"
     ]
    }
   ],
   "source": [
    "!pwd"
   ]
  },
  {
   "cell_type": "code",
   "execution_count": 5,
   "id": "785fd5c4-518f-4050-b20b-3db860308339",
   "metadata": {},
   "outputs": [
    {
     "data": {
      "text/html": [
       "<div>\n",
       "<style scoped>\n",
       "    .dataframe tbody tr th:only-of-type {\n",
       "        vertical-align: middle;\n",
       "    }\n",
       "\n",
       "    .dataframe tbody tr th {\n",
       "        vertical-align: top;\n",
       "    }\n",
       "\n",
       "    .dataframe thead th {\n",
       "        text-align: right;\n",
       "    }\n",
       "</style>\n",
       "<table border=\"1\" class=\"dataframe\">\n",
       "  <thead>\n",
       "    <tr style=\"text-align: right;\">\n",
       "      <th></th>\n",
       "      <th>Unnamed: 0</th>\n",
       "      <th>study_id</th>\n",
       "      <th>running_nr</th>\n",
       "      <th>progression</th>\n",
       "      <th>PFS_label</th>\n",
       "    </tr>\n",
       "  </thead>\n",
       "  <tbody>\n",
       "  </tbody>\n",
       "</table>\n",
       "</div>"
      ],
      "text/plain": [
       "Empty DataFrame\n",
       "Columns: [Unnamed: 0, study_id, running_nr, progression, PFS_label]\n",
       "Index: []"
      ]
     },
     "execution_count": 5,
     "metadata": {},
     "output_type": "execute_result"
    }
   ],
   "source": [
    "matched_row"
   ]
  },
  {
   "cell_type": "code",
   "execution_count": 4,
   "id": "42a25460-b4d7-43ed-a0c4-e59f53556a6b",
   "metadata": {},
   "outputs": [
    {
     "data": {
      "text/html": [
       "<div>\n",
       "<style scoped>\n",
       "    .dataframe tbody tr th:only-of-type {\n",
       "        vertical-align: middle;\n",
       "    }\n",
       "\n",
       "    .dataframe tbody tr th {\n",
       "        vertical-align: top;\n",
       "    }\n",
       "\n",
       "    .dataframe thead th {\n",
       "        text-align: right;\n",
       "    }\n",
       "</style>\n",
       "<table border=\"1\" class=\"dataframe\">\n",
       "  <thead>\n",
       "    <tr style=\"text-align: right;\">\n",
       "      <th></th>\n",
       "      <th>slide</th>\n",
       "      <th>study_id</th>\n",
       "      <th>patient</th>\n",
       "      <th>progression</th>\n",
       "      <th>er_status_by_ihc</th>\n",
       "    </tr>\n",
       "  </thead>\n",
       "  <tbody>\n",
       "    <tr>\n",
       "      <th>1</th>\n",
       "      <td>12_S148_pOme_4_HE</td>\n",
       "      <td>S148</td>\n",
       "      <td>50</td>\n",
       "      <td>no</td>\n",
       "      <td>long</td>\n",
       "    </tr>\n",
       "    <tr>\n",
       "      <th>3</th>\n",
       "      <td>12_S142_pOvaL_4_HE</td>\n",
       "      <td>S142</td>\n",
       "      <td>47</td>\n",
       "      <td>no</td>\n",
       "      <td>long</td>\n",
       "    </tr>\n",
       "    <tr>\n",
       "      <th>4</th>\n",
       "      <td>12_S134_pOvaR_4_HE</td>\n",
       "      <td>S134</td>\n",
       "      <td>41</td>\n",
       "      <td>yes</td>\n",
       "      <td>long</td>\n",
       "    </tr>\n",
       "    <tr>\n",
       "      <th>5</th>\n",
       "      <td>12_S085_pOme_4_HE</td>\n",
       "      <td>S085</td>\n",
       "      <td>30</td>\n",
       "      <td>yes</td>\n",
       "      <td>long</td>\n",
       "    </tr>\n",
       "    <tr>\n",
       "      <th>7</th>\n",
       "      <td>12_S287_pMes_4_HE</td>\n",
       "      <td>S287</td>\n",
       "      <td>71</td>\n",
       "      <td>no</td>\n",
       "      <td>long</td>\n",
       "    </tr>\n",
       "    <tr>\n",
       "      <th>...</th>\n",
       "      <td>...</td>\n",
       "      <td>...</td>\n",
       "      <td>...</td>\n",
       "      <td>...</td>\n",
       "      <td>...</td>\n",
       "    </tr>\n",
       "    <tr>\n",
       "      <th>77</th>\n",
       "      <td>12_S145_pOme_BM_4_HE</td>\n",
       "      <td>S145</td>\n",
       "      <td>48</td>\n",
       "      <td>no</td>\n",
       "      <td>long</td>\n",
       "    </tr>\n",
       "    <tr>\n",
       "      <th>78</th>\n",
       "      <td>12_S033_pOme_4_HE</td>\n",
       "      <td>S033</td>\n",
       "      <td>17</td>\n",
       "      <td>yes</td>\n",
       "      <td>short</td>\n",
       "    </tr>\n",
       "    <tr>\n",
       "      <th>79</th>\n",
       "      <td>12_S008_pOme1_4_HE</td>\n",
       "      <td>S008</td>\n",
       "      <td>5</td>\n",
       "      <td>yes</td>\n",
       "      <td>long</td>\n",
       "    </tr>\n",
       "    <tr>\n",
       "      <th>81</th>\n",
       "      <td>12_S109_pOme_5_HE</td>\n",
       "      <td>S109</td>\n",
       "      <td>37</td>\n",
       "      <td>yes</td>\n",
       "      <td>short</td>\n",
       "    </tr>\n",
       "    <tr>\n",
       "      <th>82</th>\n",
       "      <td>12_S318_pPer_5_HE</td>\n",
       "      <td>S318</td>\n",
       "      <td>75</td>\n",
       "      <td>no</td>\n",
       "      <td>long</td>\n",
       "    </tr>\n",
       "  </tbody>\n",
       "</table>\n",
       "<p>69 rows × 5 columns</p>\n",
       "</div>"
      ],
      "text/plain": [
       "                   slide study_id  patient progression er_status_by_ihc\n",
       "1      12_S148_pOme_4_HE     S148       50          no             long\n",
       "3     12_S142_pOvaL_4_HE     S142       47          no             long\n",
       "4     12_S134_pOvaR_4_HE     S134       41         yes             long\n",
       "5      12_S085_pOme_4_HE     S085       30         yes             long\n",
       "7      12_S287_pMes_4_HE     S287       71          no             long\n",
       "..                   ...      ...      ...         ...              ...\n",
       "77  12_S145_pOme_BM_4_HE     S145       48          no             long\n",
       "78     12_S033_pOme_4_HE     S033       17         yes            short\n",
       "79    12_S008_pOme1_4_HE     S008        5         yes             long\n",
       "81     12_S109_pOme_5_HE     S109       37         yes            short\n",
       "82     12_S318_pPer_5_HE     S318       75          no             long\n",
       "\n",
       "[69 rows x 5 columns]"
      ]
     },
     "execution_count": 4,
     "metadata": {},
     "output_type": "execute_result"
    }
   ],
   "source": [
    "final_result"
   ]
  },
  {
   "cell_type": "code",
   "execution_count": null,
   "id": "fef04ee0-0d3f-42a7-a15d-5d00aa385638",
   "metadata": {},
   "outputs": [],
   "source": []
  }
 ],
 "metadata": {
  "kernelspec": {
   "display_name": "Python 3 (ipykernel)",
   "language": "python",
   "name": "python3"
  },
  "language_info": {
   "codemirror_mode": {
    "name": "ipython",
    "version": 3
   },
   "file_extension": ".py",
   "mimetype": "text/x-python",
   "name": "python",
   "nbconvert_exporter": "python",
   "pygments_lexer": "ipython3",
   "version": "3.10.14"
  }
 },
 "nbformat": 4,
 "nbformat_minor": 5
}
