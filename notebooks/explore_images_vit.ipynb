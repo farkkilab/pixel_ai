{
 "cells": [
  {
   "cell_type": "code",
   "execution_count": null,
   "id": "initial_id",
   "metadata": {
    "collapsed": true
   },
   "outputs": [],
   "source": [
    "import pandas as pd\n",
    "import torch\n",
    "import os, sys, glob\n",
    "from utils import ProgressMeter, AverageMeter, save_checkpoint, TiffDataset\n"
   ]
  },
  {
   "cell_type": "code",
   "outputs": [],
   "source": [
    "cores_chemo_labels_df = pd.read_csv('data/cores_labels_chemotherapy.csv')"
   ],
   "metadata": {
    "collapsed": false
   },
   "id": "b73b96632ec51e80"
  },
  {
   "cell_type": "code",
   "outputs": [],
   "source": [
    "cores_path = \"/data/projects/pixel_project/datasets/NKI_project_TMAs/\"\n",
    "cores_files = []\n",
    "cores_directories = [d for d in os.listdir(cores_path) if\n",
    "                     os.path.isdir(os.path.join(cores_path, d)) and d.startswith('TMA')]\n",
    "cores_files_train = []\n",
    "cores_files_test = []\n",
    "cores_labels_train = []\n",
    "cores_labels_test = []\n",
    "input_dimensions = (1024, 1024)\n",
    "batch_size = 8\n",
    "num_workers = 28\n",
    "for i, slide in enumerate(cores_directories):\n",
    "    files_path = str(cores_path) + \"/\" + slide + \"/Channels_all\"\n",
    "    cores_files.extend([os.path.join(r, fn)\n",
    "                        for r, ds, fs in os.walk(files_path)\n",
    "                        for fn in fs if fn.endswith('.tif')])\n",
    "\n",
    "for i, core_file in enumerate(cores_files):\n",
    "    patch_file_label_df = cores_chemo_labels_df[(cores_chemo_labels_df['cycif.slide']==core_file.split('/')[-3])&(cores_chemo_labels_df['cycif.core.id']==core_file.split('/')[-1].replace('.tif',''))]\n",
    "    if not patch_file_label_df.empty and str(patch_file_label_df.iloc[0]['therapy_sequence']).lower()!='na':\n",
    "        if core_file.split('/')[-3]=='TMA_42_961':\n",
    "            cores_files_test.append(core_file)\n",
    "            # If contains NACT, is a sample collected after chemotherapy exposure\n",
    "            if 'nact' in str(patch_file_label_df.iloc[0]['therapy_sequence']).lower():\n",
    "                cores_labels_test.append(0)\n",
    "            else:\n",
    "                cores_labels_test.append(1)\n",
    "        else:\n",
    "            cores_files_train.append(core_file)\n",
    "            # If contains NACT, is a sample collected after chemotherapy exposure\n",
    "            if 'nact' in str(patch_file_label_df.iloc[0]['therapy_sequence']).lower():\n",
    "                cores_labels_train.append(0)\n",
    "            else:\n",
    "                cores_labels_train.append(1)\n",
    "    else:\n",
    "        print('Missing label for:'+core_file)\n",
    "\n",
    "tiff_dataset_train = TiffDataset(files=cores_files_train,transform=T.Resize([input_dimensions[0],input_dimensions[1]]), channels=channels,labels=cores_labels_train)\n",
    "tiff_dataset_test = TiffDataset(files=cores_files_test,transform=T.Resize([input_dimensions[0],input_dimensions[1]]), channels=channels,labels=cores_labels_test)\n",
    "\n",
    "train_sampler = None\n",
    "train_loader = torch.utils.data.DataLoader(\n",
    "        tiff_dataset_train, batch_size=batch_size, shuffle=(train_sampler is None),\n",
    "         pin_memory=True, sampler=train_sampler, num_workers=num_workers)\n",
    "test_sampler = None\n",
    "test_loader = torch.utils.data.DataLoader(\n",
    "        tiff_dataset_test, batch_size=batch_size, shuffle=(test_sampler is None),\n",
    "         pin_memory=True, sampler=test_sampler, num_workers=num_workers)\n"
   ],
   "metadata": {
    "collapsed": false
   },
   "id": "7fdd694f657605d3"
  }
 ],
 "metadata": {
  "kernelspec": {
   "display_name": "Python 3",
   "language": "python",
   "name": "python3"
  },
  "language_info": {
   "codemirror_mode": {
    "name": "ipython",
    "version": 2
   },
   "file_extension": ".py",
   "mimetype": "text/x-python",
   "name": "python",
   "nbconvert_exporter": "python",
   "pygments_lexer": "ipython2",
   "version": "2.7.6"
  }
 },
 "nbformat": 4,
 "nbformat_minor": 5
}
