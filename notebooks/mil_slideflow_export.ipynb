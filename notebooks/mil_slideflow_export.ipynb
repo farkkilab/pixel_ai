{
 "cells": [
  {
   "cell_type": "code",
   "execution_count": 6,
   "id": "dbd40a21-3155-4ef9-9f0c-3778ef27b5e8",
   "metadata": {},
   "outputs": [
    {
     "name": "stdout",
     "output_type": "stream",
     "text": [
      "PDF generated: mil_predictions.pdf\n"
     ]
    }
   ],
   "source": [
    "import os\n",
    "import pandas as pd\n",
    "from fpdf import FPDF\n",
    "from PIL import Image\n",
    "\n",
    "def generate_pdf(base_path, output_pdf):\n",
    "    # Initialize the PDF object\n",
    "    pdf = FPDF()\n",
    "    pdf.set_auto_page_break(auto=True, margin=15)\n",
    "\n",
    "    # General list to hold all data\n",
    "    all_data = []\n",
    "\n",
    "    # Iterate through each fold folder\n",
    "    for fold in os.listdir(base_path):\n",
    "        fold_path = os.path.join(base_path, fold)\n",
    "        if not os.path.isdir(fold_path):\n",
    "            continue  # Skip non-folder items\n",
    "        \n",
    "        # Path to predictions.parquet\n",
    "        parquet_file = os.path.join(fold_path, \"predictions.parquet\")\n",
    "        heatmaps_folder = os.path.join(fold_path, \"heatmaps\")\n",
    "\n",
    "        if not os.path.exists(parquet_file) or not os.path.exists(heatmaps_folder):\n",
    "            print(f\"Missing data in {fold}. Skipping...\")\n",
    "            continue\n",
    "\n",
    "        # Read the predictions.parquet file\n",
    "        df = pd.read_parquet(parquet_file)\n",
    "\n",
    "        # Process each slide\n",
    "        for _, row in df.iterrows():\n",
    "            slide = row['slide']\n",
    "            y_true = row['y_true']\n",
    "            y_pred0 = row['y_pred0']\n",
    "            y_pred1 = row['y_pred1']\n",
    "            y_predicted = 0 if y_pred0 > y_pred1 else 1\n",
    "\n",
    "            # Find corresponding heatmap image\n",
    "            heatmap_path = os.path.join(heatmaps_folder, f\"{slide}_attn.png\")\n",
    "            if not os.path.exists(heatmap_path):\n",
    "                print(f\"Missing heatmap for slide {slide} in {fold}. Skipping...\")\n",
    "                continue\n",
    "\n",
    "            # Append data to the general list\n",
    "            all_data.append((fold, slide, y_true, y_predicted, heatmap_path))\n",
    "\n",
    "            # Add to PDF\n",
    "            pdf.add_page()\n",
    "            pdf.set_font(\"Arial\", size=12)\n",
    "            pdf.cell(0, 10, f\"Fold: {fold}\", ln=True)\n",
    "            pdf.cell(0, 10, f\"Slide: {slide}\", ln=True)\n",
    "            pdf.cell(0, 10, f\"True Label: {y_true}\", ln=True)\n",
    "            pdf.cell(0, 10, f\"Predicted Label: {y_predicted}\", ln=True)\n",
    "            pdf.ln(10)\n",
    "\n",
    "            # Add heatmap image\n",
    "            try:\n",
    "                with Image.open(heatmap_path) as img:\n",
    "                    img_path = f\"/tmp/{slide}.jpg\"  # Temporary path for resizing\n",
    "                    img = img.convert(\"RGB\")\n",
    "                    #img.thumbnail((190, 190))  # Resize to fit the PDF\n",
    "                    img.save(img_path, \"JPEG\")\n",
    "                    pdf.image(img_path, x=10, y=pdf.get_y(), w=100)\n",
    "            except Exception as e:\n",
    "                print(f\"Error processing image {heatmap_path}: {e}\")\n",
    "                pdf.cell(0, 10, \"Error loading heatmap image.\", ln=True)\n",
    "\n",
    "    # Save the PDF\n",
    "    pdf.output(output_pdf)\n",
    "    print(f\"PDF generated: {output_pdf}\")\n",
    "\n",
    "# Usage\n",
    "base_path = \"/scratch/project_2003009/he_space_slideflow_cropped/mil/\"  # Replace with your directory path\n",
    "output_pdf = \"mil_predictions.pdf\"\n",
    "generate_pdf(base_path, output_pdf)\n"
   ]
  },
  {
   "cell_type": "code",
   "execution_count": null,
   "id": "de941b4d-25bd-44ed-94ec-502acee2d726",
   "metadata": {},
   "outputs": [],
   "source": []
  }
 ],
 "metadata": {
  "kernelspec": {
   "display_name": "Python 3 (ipykernel)",
   "language": "python",
   "name": "python3"
  },
  "language_info": {
   "codemirror_mode": {
    "name": "ipython",
    "version": 3
   },
   "file_extension": ".py",
   "mimetype": "text/x-python",
   "name": "python",
   "nbconvert_exporter": "python",
   "pygments_lexer": "ipython3",
   "version": "3.10.14"
  }
 },
 "nbformat": 4,
 "nbformat_minor": 5
}
